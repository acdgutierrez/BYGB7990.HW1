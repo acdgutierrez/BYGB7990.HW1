{
 "cells": [
  {
   "cell_type": "markdown",
   "metadata": {},
   "source": [
    "## Programming with Python Fall 2021\n",
    "### Programming Project 3\n",
    "#### Amanda Corinne Gutierrez\n"
   ]
  },
  {
   "cell_type": "code",
   "execution_count": 1,
   "metadata": {},
   "outputs": [],
   "source": [
    "import datetime"
   ]
  },
  {
   "cell_type": "markdown",
   "metadata": {},
   "source": [
    "#### Q1 Scores: This program processes a list of scores and counts the number that are below/above average"
   ]
  },
  {
   "cell_type": "code",
   "execution_count": 2,
   "metadata": {},
   "outputs": [
    {
     "name": "stdout",
     "output_type": "stream",
     "text": [
      "Please input scores that are non-negative real numbers, each separated by a space: 98.5 79.7 91.4 76.0 89.5 94.0 87.2 77.0 86.5 77.7 98.8 83.5 79.9 68.8 71.0 84.5\n",
      "\n",
      "The scores inputted are: 98.5 79.7 91.4 76.0 89.5 94.0 87.2 77.0 86.5 77.7 98.8 83.5 79.9 68.8 71.0 84.5\n",
      "\n",
      " There are 16 scores. The average of the scores, rounded to up to 2 decimals, is 84.00\n",
      "\n",
      " There are 8 scores above or equal to the average and there are 8 below the average.\n",
      "\n",
      " Finished execution at  2021-11-15 08:43:47.215247\n"
     ]
    }
   ],
   "source": [
    "inp = input(\"Please input scores that are non-negative real numbers, each separated by a space: \")\n",
    "\n",
    "scores = inp.split()\n",
    "\n",
    "for i in range(0,len(scores)):\n",
    "    scores[i] = float(scores[i])\n",
    "\n",
    "count_scores = len(scores)\n",
    "sum_scores = sum(scores)\n",
    "avg = sum_scores/count_scores\n",
    "\n",
    "above_avg = 0\n",
    "below_avg = 0\n",
    "\n",
    "print(\"\\nThe scores inputted are:\", inp)\n",
    "\n",
    "for i in scores:\n",
    "    if i >= avg:\n",
    "        above_avg += 1\n",
    "    else:\n",
    "        below_avg += 1\n",
    "\n",
    "print(\"\\n There are\", count_scores, \"scores. The average of the scores, rounded to up to 2 decimals, is\", format(avg,\".2f\"))\n",
    "print(\"\\n There are\", above_avg, \"scores above or equal to the average and there are\", below_avg, \"below the average.\")\n",
    "\n",
    "print(\"\\n Finished execution at \", datetime.datetime.now())"
   ]
  },
  {
   "cell_type": "markdown",
   "metadata": {},
   "source": [
    "#### Q2 Volunteers: This program creates an updated list of volunteers and randomly selects one volunteer each week to be the manager"
   ]
  },
  {
   "cell_type": "code",
   "execution_count": 7,
   "metadata": {},
   "outputs": [
    {
     "name": "stdout",
     "output_type": "stream",
     "text": [
      "\n",
      "The updated list of volunteers is: Rob Jason Melissa Kara Jessica Mark Anna Kayla James Tabu Nadir Samantha Stephene Joshua Shahida Jennie Kadir Sania Jose Nicholas Anthony Emma Emanuel Justin2 Malia Katrina Zubeida Syed Stephen Simeone Tabassum Yingzhu Robin Alex Katie Sabrina \n",
      "\n",
      " The coordinators for the next 6 weeks are: Katie Sabrina Nadir Mark Tabassum Kayla \n",
      "\n",
      " Finished execution at  2021-11-15 08:48:15.489313\n"
     ]
    }
   ],
   "source": [
    "import random\n",
    "    \n",
    "volunteers = [\"Rob\",\"Jason\",\"Melissa\",\"Kara\", \"Jessica\", \"Mark\", \"Anna\",\"Kayla\",\n",
    "              \"Claire\",\"James\", \"Justin\",\"Tabu\", \"Nadir\", \"Samuel\", \"Samantha\", \n",
    "              \"Stephene\", \"Joshua\",\"Shahida\", \"Janus\",\"Jennie\", \"Andrew\", \"Kadir\", \n",
    "              \"Sania\", \"Soham\", \"Jose\", \"Nicholas\", \"Anthony\", \"Emma\", \n",
    "              \"Emanuel\",\"Justin2\",\"Malia\", \"Katrina\",\"Zubeida\"]\n",
    "seniors    = [\"Claire\",\"Ishan\",\"Soham\",\"Jimmy\",\"Janus\",\"Andrew\",\"Samuel\", \"Justin\"]\n",
    "new_volunteers = [\"Syed\",\"Stephen\",\"Simeone\",\"Tabassum\",\"Yingzhu\",\"Robin\",\"Alex\", \n",
    "                  \"Katie\",\"Sabrina\"]\n",
    "\n",
    "updated_volunteers = []\n",
    "\n",
    "for x in range(0, len(volunteers)):\n",
    "    if volunteers[x] not in seniors:\n",
    "        updated_volunteers.append(volunteers[x])\n",
    "        \n",
    "for y in new_volunteers:\n",
    "    updated_volunteers.append(y)\n",
    "\n",
    "print(\"\\nThe updated list of volunteers is:\",end=\" \")\n",
    "    \n",
    "for z in updated_volunteers:\n",
    "    print(z, end=\" \")\n",
    "    \n",
    "managers = []\n",
    "          \n",
    "while len(managers) <= 5:\n",
    "    randomizer = random.randint(0,len(updated_volunteers)-1)\n",
    "    if updated_volunteers[randomizer] not in managers:\n",
    "          managers.append(updated_volunteers[randomizer])\n",
    "          \n",
    "print(\"\\n\\n The coordinators for the next 6 weeks are:\",end=\" \")\n",
    "\n",
    "for k in managers:\n",
    "    print(k, end=\" \")\n",
    "    \n",
    "print(\"\\n\\n\", \"Finished execution at \", datetime.datetime.now())"
   ]
  },
  {
   "cell_type": "markdown",
   "metadata": {},
   "source": [
    "#### Q3 Whales: This program outputs the number of whales seen on Mondays and the number of whales seen in total"
   ]
  },
  {
   "cell_type": "code",
   "execution_count": 8,
   "metadata": {},
   "outputs": [
    {
     "name": "stdout",
     "output_type": "stream",
     "text": [
      "The numbers of whales seen on Mondays are: [4, 4, 5, 1, 1, 3]\n",
      "\n",
      "The total number of whales seen is 129\n",
      "The total number of whales seen on Mondays is 18\n",
      "\n",
      " Finished execution at  2021-11-15 08:49:35.515636\n"
     ]
    }
   ],
   "source": [
    "whales = [5,4,7,3,2,3,2,6,4,2,1,7,1,4,4,5,3,6,8,5,7,0,1,4,6,0,3,2,4,1,0,1,2,4,1,1,3,4,2,1]\n",
    "\n",
    "mondays = []\n",
    "\n",
    "for x in range(1,len(whales),7):\n",
    "    mondays.append(whales[x])\n",
    "    \n",
    "print(\"The numbers of whales seen on Mondays are:\", mondays)\n",
    "\n",
    "total_whales = sum(whales)\n",
    "monday_whales = sum(mondays)\n",
    "\n",
    "print(\"\\nThe total number of whales seen is\", total_whales)\n",
    "print(\"The total number of whales seen on Mondays is\", monday_whales)\n",
    "\n",
    "print(\"\\n\", \"Finished execution at \", datetime.datetime.now())"
   ]
  },
  {
   "cell_type": "markdown",
   "metadata": {},
   "source": [
    "#### Q4 Highest Scorers: This program outputs a list of names whose scores are greater than or equal to 95"
   ]
  },
  {
   "cell_type": "code",
   "execution_count": 11,
   "metadata": {},
   "outputs": [
    {
     "name": "stdout",
     "output_type": "stream",
     "text": [
      "The wise guys are: Mary Dean Monica Cheng Fatima \n",
      "\n",
      " Finished execution at  2021-11-15 08:51:18.296545\n"
     ]
    }
   ],
   "source": [
    "students = [\"Robin\",\"Emily\",\"Mary\",\"Joe\",\"Dean\",\"Claire\",\"Anne\",\"Yingzhu\",\"James\",\n",
    "            \"Monica\",\"Tess\",\"Anaya\",\"Cheng\",\"Tammy\",\"Fatima\", \"Tabu\", \"Zahir\"]\n",
    "scores  = [87, 72, 98, 93, 96, 65, 78, 83, 85, 97, 89, 65, 96, 82, 98, 89, 87]\n",
    "\n",
    "wise_guys = []\n",
    "\n",
    "for x in students:\n",
    "    index = students.index(x)\n",
    "    if scores[index] >= 95:\n",
    "        wise_guys.append(x)\n",
    "        \n",
    "print(\"The wise guys are:\", end=\" \")\n",
    "\n",
    "for y in wise_guys:\n",
    "    print(y, end = \" \")\n",
    "    \n",
    "print(\"\\n\\n\", \"Finished execution at \", datetime.datetime.now())"
   ]
  }
 ],
 "metadata": {
  "kernelspec": {
   "display_name": "Python 3",
   "language": "python",
   "name": "python3"
  },
  "language_info": {
   "codemirror_mode": {
    "name": "ipython",
    "version": 3
   },
   "file_extension": ".py",
   "mimetype": "text/x-python",
   "name": "python",
   "nbconvert_exporter": "python",
   "pygments_lexer": "ipython3",
   "version": "3.8.8"
  }
 },
 "nbformat": 4,
 "nbformat_minor": 2
}
